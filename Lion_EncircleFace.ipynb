{
 "cells": [
  {
   "cell_type": "code",
   "execution_count": 23,
   "metadata": {},
   "outputs": [
    {
     "name": "stdout",
     "output_type": "stream",
     "text": [
      "(1200, 1920, 3)\n"
     ]
    }
   ],
   "source": [
    "import numpy as np\n",
    "import matplotlib.pyplot as plt\n",
    "\n",
    "#Importing opencv library\n",
    "import cv2\n",
    "\n",
    "\n",
    "BLUE = [255,0,0]\n",
    "#reading an image from the system in color mode\n",
    "img=cv2.imread('lion.jpg',1)\n",
    "\n",
    "print(img.shape)\n",
    "\n",
    "cv2.namedWindow('Original Image',cv2.WINDOW_NORMAL)\n",
    "cv2.imshow('Original Image',img)\n",
    "cv2.waitKey(1000)\n",
    "#cv2.destroyAllWindows()\n",
    "\n",
    "#Selecting aparticular area in the image\n",
    "#We have to give x-axis span and y-axis span starting from top left corner\n",
    "face = img[200:1100, 250:1150]\n",
    "\n",
    "cv2.namedWindow('Face',cv2.WINDOW_NORMAL)\n",
    "cv2.imshow('Face',face)\n",
    "cv2.waitKey(1000)\n",
    "\n",
    "#Encircle a particular part in the image\n",
    "#It takes the image, center-coordinates of the part to encircle, color (B,G,R values) and width of the edge of circle\n",
    "\n",
    "img2=cv2.circle(img,(650,650), 450, (255,0,0),10)\n",
    "cv2.namedWindow('Face2',cv2.WINDOW_NORMAL)\n",
    "cv2.imshow('Face2',img2)\n",
    "cv2.waitKey(3000)\n",
    "\n",
    "\n",
    "\n",
    "cv2.destroyAllWindows()"
   ]
  },
  {
   "cell_type": "code",
   "execution_count": null,
   "metadata": {},
   "outputs": [],
   "source": []
  },
  {
   "cell_type": "code",
   "execution_count": null,
   "metadata": {},
   "outputs": [],
   "source": []
  }
 ],
 "metadata": {
  "kernelspec": {
   "display_name": "Python 3",
   "language": "python",
   "name": "python3"
  },
  "language_info": {
   "codemirror_mode": {
    "name": "ipython",
    "version": 3
   },
   "file_extension": ".py",
   "mimetype": "text/x-python",
   "name": "python",
   "nbconvert_exporter": "python",
   "pygments_lexer": "ipython3",
   "version": "3.5.2"
  }
 },
 "nbformat": 4,
 "nbformat_minor": 2
}
