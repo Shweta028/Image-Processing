{
 "cells": [
  {
   "cell_type": "code",
   "execution_count": null,
   "metadata": {},
   "outputs": [
    {
     "name": "stdout",
     "output_type": "stream",
     "text": [
      "Camera is up and running\n",
      "[[[156 152 144]\n",
      "  [157 153 145]\n",
      "  [156 159 142]\n",
      "  ...\n",
      "  [140 138 116]\n",
      "  [153 140 110]\n",
      "  [148 136 106]]\n",
      "\n",
      " [[155 154 145]\n",
      "  [154 153 144]\n",
      "  [152 157 136]\n",
      "  ...\n",
      "  [137 139 118]\n",
      "  [151 134 112]\n",
      "  [150 133 110]]\n",
      "\n",
      " [[153 151 143]\n",
      "  [154 153 144]\n",
      "  [156 158 144]\n",
      "  ...\n",
      "  [134 134 121]\n",
      "  [153 134 114]\n",
      "  [153 134 114]]\n",
      "\n",
      " ...\n",
      "\n",
      " [[ 13  15  17]\n",
      "  [ 13  15  17]\n",
      "  [ 16  16  16]\n",
      "  ...\n",
      "  [ 19  10   9]\n",
      "  [ 17  10   9]\n",
      "  [ 15   9   8]]\n",
      "\n",
      " [[ 17  17  23]\n",
      "  [ 13  13  20]\n",
      "  [ 20  21  18]\n",
      "  ...\n",
      "  [ 24  11   8]\n",
      "  [ 10  11   9]\n",
      "  [  7   8   5]]\n",
      "\n",
      " [[ 17  17  23]\n",
      "  [ 14  14  21]\n",
      "  [ 16  16  16]\n",
      "  ...\n",
      "  [ 19  11   3]\n",
      "  [ 10  12   7]\n",
      "  [  9  11   6]]]\n"
     ]
    }
   ],
   "source": [
    "#import modules\n",
    "import cv2, time\n",
    "\n",
    "\n",
    "# Create a video object\n",
    "video = cv2.VideoCapture(0) #zero is used for external camera\n",
    "\n",
    "#Reading input from webcam\n",
    "check, frame = video.read()\n",
    "\n",
    "#Check whether camera is on \n",
    "if check==True: \n",
    "    print('Camera is up and running')\n",
    "\n",
    "# Showing image/frame data\n",
    "print(frame)\n",
    "\n",
    "#Showing the captured frame\n",
    "cv2.imshow('Capturing', frame)\n",
    "\n",
    "#Waiting time\n",
    "cv2.waitKey(0)\n",
    "\n",
    "cv2.destroyAllWindows()"
   ]
  },
  {
   "cell_type": "code",
   "execution_count": null,
   "metadata": {},
   "outputs": [],
   "source": []
  },
  {
   "cell_type": "code",
   "execution_count": null,
   "metadata": {},
   "outputs": [],
   "source": []
  }
 ],
 "metadata": {
  "kernelspec": {
   "display_name": "Python 3",
   "language": "python",
   "name": "python3"
  },
  "language_info": {
   "codemirror_mode": {
    "name": "ipython",
    "version": 3
   },
   "file_extension": ".py",
   "mimetype": "text/x-python",
   "name": "python",
   "nbconvert_exporter": "python",
   "pygments_lexer": "ipython3",
   "version": "3.5.2"
  }
 },
 "nbformat": 4,
 "nbformat_minor": 2
}
