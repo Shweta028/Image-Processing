{
 "cells": [
  {
   "cell_type": "code",
   "execution_count": null,
   "metadata": {},
   "outputs": [
    {
     "name": "stdout",
     "output_type": "stream",
     "text": [
      "[255 255 255]\n"
     ]
    }
   ],
   "source": [
    "import numpy as np\n",
    "import cv2\n",
    "import matplotlib.pyplot as plt\n",
    "\n",
    "#Reading an image\n",
    "img1 = cv2.imread('teddy.jpg', cv2.IMREAD_COLOR) # Grayscale image is easy to analyze\n",
    "\n",
    "#Editing a pixel value\n",
    "img1[500,500]=[255,255,255]\n",
    "pix = img1[500,500]\n",
    "print (pix)\n",
    "\n",
    "#Extracting a Region of image(ROI) editing\n",
    "teddy_face=img1[200:450, 200:650]\n",
    "\n",
    "cv2.imshow('Face',teddy_face)\n",
    "cv2.waitKey(0)\n",
    "cv2.destroyAllWindows()\n",
    "\n",
    "\n",
    "plt.imshow(img1, cmap='gray', interpolation='bicubic')\n",
    "\n",
    "plt.show()\n",
    "\n",
    "\n",
    "\n"
   ]
  },
  {
   "cell_type": "code",
   "execution_count": null,
   "metadata": {},
   "outputs": [],
   "source": [
    "\n"
   ]
  }
 ],
 "metadata": {
  "kernelspec": {
   "display_name": "Python 3",
   "language": "python",
   "name": "python3"
  }
 },
 "nbformat": 4,
 "nbformat_minor": 2
}
