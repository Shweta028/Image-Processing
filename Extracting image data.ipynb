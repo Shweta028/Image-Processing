{
 "cells": [
  {
   "cell_type": "code",
   "execution_count": 1,
   "metadata": {},
   "outputs": [
    {
     "name": "stdout",
     "output_type": "stream",
     "text": [
      "width: 1920\n",
      "height: 1200\n",
      "bpp: 3\n",
      "[5 6 4]\n"
     ]
    }
   ],
   "source": [
    "import cv2\n",
    "import numpy as np\n",
    " \n",
    "# reading image data\n",
    "img = cv2.imread(\"lion.jpg\")\n",
    " \n",
    "# getting image properties\n",
    "h,w,b = np.shape(img)\n",
    " \n",
    "# printing image properties.\n",
    "print (\"width: \" + str(w))\n",
    "print (\"height: \" + str(h))\n",
    "print (\"bpp: \" + str(b))\n",
    "\n",
    "# print one pixel value\n",
    "print (img[0][0])\n",
    "       \n",
    "# print complete image pixels through iterating\n",
    "#for i in range(0,h):\n",
    " #   for j in range(0,w):\n",
    "  #      print (img[i][j])\n",
    "       \n",
    "#displaying the image\n",
    "cv2.imshow('original image',img) \n",
    "cv2.waitKey(2000)  #window will hold for 2 seconds(wait time is in milliseconds)\n",
    "\n",
    "\n",
    "# modifying pixel values\n",
    "for i in range(0,h):\n",
    "    for j in range(0,w):\n",
    "        img[i][j][0] = 0 #We have removed the last color channel\n",
    "\n",
    "# displaying modified image\n",
    "cv2.imshow(\"Modified Image\",img)\n",
    "cv2.waitKey(2000)\n",
    "cv2.destroyAllWindows()"
   ]
  },
  {
   "cell_type": "code",
   "execution_count": null,
   "metadata": {},
   "outputs": [],
   "source": []
  }
 ],
 "metadata": {
  "kernelspec": {
   "display_name": "Python 3",
   "language": "python",
   "name": "python3"
  },
  "language_info": {
   "codemirror_mode": {
    "name": "ipython",
    "version": 3
   },
   "file_extension": ".py",
   "mimetype": "text/x-python",
   "name": "python",
   "nbconvert_exporter": "python",
   "pygments_lexer": "ipython3",
   "version": "3.5.2"
  }
 },
 "nbformat": 4,
 "nbformat_minor": 2
}
